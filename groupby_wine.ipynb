{
 "cells": [
  {
   "cell_type": "code",
   "execution_count": 4,
   "metadata": {},
   "outputs": [
    {
     "data": {
      "text/plain": [
       "country\n",
       "Argentina                 24.510117\n",
       "Armenia                   14.500000\n",
       "Australia                 35.437663\n",
       "Austria                   30.762772\n",
       "Bosnia and Herzegovina    12.500000\n",
       "Brazil                    23.765957\n",
       "Bulgaria                  14.645390\n",
       "Canada                    35.712598\n",
       "Chile                     20.786458\n",
       "China                     18.000000\n",
       "Croatia                   25.450704\n",
       "Cyprus                    16.272727\n",
       "Czech Republic            24.250000\n",
       "Egypt                           NaN\n",
       "England                   51.681159\n",
       "France                    41.139120\n",
       "Georgia                   19.321429\n",
       "Germany                   42.257547\n",
       "Greece                    22.364425\n",
       "Hungary                   40.648276\n",
       "India                     13.333333\n",
       "Israel                    31.768916\n",
       "Italy                     39.663770\n",
       "Lebanon                   30.685714\n",
       "Luxembourg                23.333333\n",
       "Macedonia                 15.583333\n",
       "Mexico                    26.785714\n",
       "Moldova                   16.745763\n",
       "Morocco                   19.500000\n",
       "New Zealand               26.931785\n",
       "Peru                      18.062500\n",
       "Portugal                  26.218256\n",
       "Romania                   15.241667\n",
       "Serbia                    24.500000\n",
       "Slovakia                  16.000000\n",
       "Slovenia                  24.812500\n",
       "South Africa              24.668987\n",
       "Spain                     28.215275\n",
       "Switzerland               85.285714\n",
       "Turkey                    24.633333\n",
       "US                        36.573464\n",
       "Ukraine                    9.214286\n",
       "Uruguay                   26.403670\n",
       "Name: price, dtype: float64"
      ]
     },
     "execution_count": 4,
     "metadata": {},
     "output_type": "execute_result"
    }
   ],
   "source": [
    "import pandas as pd\n",
    "df=pd.read_csv('winemag-data-130k-v2.csv')\n",
    "df.groupby('country')['price'].mean()"
   ]
  },
  {
   "cell_type": "code",
   "execution_count": null,
   "metadata": {},
   "outputs": [],
   "source": []
  }
 ],
 "metadata": {
  "kernelspec": {
   "display_name": "Python 3",
   "language": "python",
   "name": "python3"
  },
  "language_info": {
   "codemirror_mode": {
    "name": "ipython",
    "version": 3
   },
   "file_extension": ".py",
   "mimetype": "text/x-python",
   "name": "python",
   "nbconvert_exporter": "python",
   "pygments_lexer": "ipython3",
   "version": "3.7.3"
  }
 },
 "nbformat": 4,
 "nbformat_minor": 2
}
