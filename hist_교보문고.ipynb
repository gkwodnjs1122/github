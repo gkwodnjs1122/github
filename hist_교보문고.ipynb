{
 "cells": [
  {
   "cell_type": "code",
   "execution_count": 2,
   "metadata": {},
   "outputs": [
    {
     "data": {
      "text/plain": [
       "(array([3., 5., 4., 1., 3., 2., 1., 0., 0., 1.]),\n",
       " array([11000., 12700., 14400., 16100., 17800., 19500., 21200., 22900.,\n",
       "        24600., 26300., 28000.]),\n",
       " <a list of 10 Patch objects>)"
      ]
     },
     "execution_count": 2,
     "metadata": {},
     "output_type": "execute_result"
    },
    {
     "data": {
      "image/png": "[encoded data removed]",
      "text/plain": [
       "<Figure size 432x288 with 1 Axes>"
      ]
     },
     "metadata": {
      "needs_background": "light"
     },
     "output_type": "display_data"
    }
   ],
   "source": [
    "from urllib.request import urlopen\n",
    "from bs4 import BeautifulSoup\n",
    "import pandas as pd\n",
    "import matplotlib.pyplot as plt\n",
    "import seaborn as sns\n",
    "# 교보문고의 베스트셀러 웹페이지를 가져옵니다.\n",
    "\n",
    "html = urlopen('http://www.kyobobook.co.kr/bestSellerNew/bestseller.laf')\n",
    "bsObject = BeautifulSoup(html, \"html.parser\")\n",
    "\n",
    "\n",
    "# 책의 상세 웹페이지 주소를 추출하여 리스트에 저장합니다.\n",
    "book_page_urls = []\n",
    "for cover in bsObject.find_all('div', {'class':'detail'}):\n",
    "    link = cover.select('a')[0].get('href')\n",
    "    book_page_urls.append(link)\n",
    "df = pd.DataFrame(columns=[\"title\", \"author\", \"originalPrice\",\"salePrice\"])\n",
    "# 메타 정보로부터 필요한 정보를 추출합니다.메타 정보에 없는 저자 정보만 따로 가져왔습니다.   \n",
    "for index, book_page_url in enumerate(book_page_urls):\n",
    "    html = urlopen(book_page_url)\n",
    "    bsObject = BeautifulSoup(html, \"html.parser\")\n",
    "    title = bsObject.find('meta', {'property':'rb:itemName'}).get('content')\n",
    "    author = bsObject.select('span.name a')[0].text\n",
    "    originalPrice = bsObject.find('meta', {'property': 'rb:originalPrice'}).get('content')\n",
    "    salePrice = bsObject.find('meta', {'property':'rb:salePrice'}).get('content')\n",
    "    df = df.append(pd.DataFrame({\"title\":[title], \"author\":[author], \"originalPrice\":[originalPrice],\"salePrice\":[salePrice]}), ignore_index=True)\n",
    "tips=df.groupby('originalPrice')['salePrice'].describe()\n",
    "fig = plt.figure()\n",
    "axes1 = fig.add_subplot(1,1,1)\n",
    "axes1.hist(df['originalPrice'].apply(pd.to_numeric),bins=10)\n"
   ]
  },
  {
   "cell_type": "code",
   "execution_count": null,
   "metadata": {},
   "outputs": [],
   "source": []
  }
 ],
 "metadata": {
  "kernelspec": {
   "display_name": "Python 3",
   "language": "python",
   "name": "python3"
  },
  "language_info": {
   "codemirror_mode": {
    "name": "ipython",
    "version": 3
   },
   "file_extension": ".py",
   "mimetype": "text/x-python",
   "name": "python",
   "nbconvert_exporter": "python",
   "pygments_lexer": "ipython3",
   "version": "3.7.4"
  }
 },
 "nbformat": 4,
 "nbformat_minor": 2
}
